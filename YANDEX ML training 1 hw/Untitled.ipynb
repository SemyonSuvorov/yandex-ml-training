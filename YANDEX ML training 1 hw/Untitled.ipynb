{
 "cells": [
  {
   "cell_type": "code",
   "execution_count": 2,
   "id": "34e1c826",
   "metadata": {},
   "outputs": [],
   "source": [
    "import numpy as np\n",
    "from collections import Counter"
   ]
  },
  {
   "cell_type": "code",
   "execution_count": 38,
   "id": "e602ab82",
   "metadata": {},
   "outputs": [
    {
     "name": "stdout",
     "output_type": "stream",
     "text": [
      "2000\n"
     ]
    }
   ],
   "source": [
    "X = np.random.randn(2000, 10)\n",
    "X_1 = np.random.randn(2000, 10)\n",
    "y = np.mean(X, axis=1)\n",
    "print(len(X))"
   ]
  },
  {
   "cell_type": "code",
   "execution_count": 32,
   "id": "709bb2ed",
   "metadata": {},
   "outputs": [
    {
     "name": "stdout",
     "output_type": "stream",
     "text": [
      "8\n"
     ]
    }
   ],
   "source": [
    "a = np.random.randint(0, 10)\n",
    "print(a)"
   ]
  },
  {
   "cell_type": "code",
   "execution_count": 94,
   "id": "71fcf848-18bd-4182-b8c0-3752084db25e",
   "metadata": {},
   "outputs": [
    {
     "name": "stdout",
     "output_type": "stream",
     "text": [
      "[4.5]\n"
     ]
    }
   ],
   "source": [
    "from sklearn.linear_model import LinearRegression\n",
    "b = LinearRegression()\n",
    "b.fit(X,y)\n",
    "c = [[1,2,3,4,5,6,7,8,9,0]]\n",
    "print(b.predict(c))"
   ]
  },
  {
   "cell_type": "code",
   "execution_count": 110,
   "id": "912a3fe8-7c7f-4309-a851-3afe73b8cb54",
   "metadata": {},
   "outputs": [
    {
     "name": "stdout",
     "output_type": "stream",
     "text": [
      "3.5\n"
     ]
    }
   ],
   "source": [
    "a = np.array([[1,2,3], [4,5,6], [7, 8, 9]])\n",
    "b = []\n",
    "b += [3]\n",
    "b += [4]\n",
    "print(np.sum(b) / len(b))       \n",
    "    "
   ]
  },
  {
   "cell_type": "code",
   "execution_count": 70,
   "id": "af072a00-d0a7-44eb-b895-dfc58ff19ae6",
   "metadata": {},
   "outputs": [
    {
     "name": "stdout",
     "output_type": "stream",
     "text": [
      "[[], []]\n"
     ]
    }
   ],
   "source": [
    "list_of_predictions_lists = [[] for _ in range(len(a))]\n",
    "print(list_of_predictions_lists)"
   ]
  },
  {
   "cell_type": "code",
   "execution_count": null,
   "id": "82071fc8-6841-44a9-a3a4-358480f9911d",
   "metadata": {},
   "outputs": [],
   "source": []
  }
 ],
 "metadata": {
  "kernelspec": {
   "display_name": "Python 3 (ipykernel)",
   "language": "python",
   "name": "python3"
  },
  "language_info": {
   "codemirror_mode": {
    "name": "ipython",
    "version": 3
   },
   "file_extension": ".py",
   "mimetype": "text/x-python",
   "name": "python",
   "nbconvert_exporter": "python",
   "pygments_lexer": "ipython3",
   "version": "3.11.6"
  }
 },
 "nbformat": 4,
 "nbformat_minor": 5
}
